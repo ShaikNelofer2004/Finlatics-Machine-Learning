{
  "nbformat": 4,
  "nbformat_minor": 0,
  "metadata": {
    "colab": {
      "provenance": []
    },
    "kernelspec": {
      "name": "python3",
      "display_name": "Python 3"
    },
    "language_info": {
      "name": "python"
    }
  },
  "cells": [
    {
      "cell_type": "code",
      "execution_count": 3,
      "metadata": {
        "id": "Jb5kZVoDfogE"
      },
      "outputs": [],
      "source": [
        "import pandas as pd\n",
        "import numpy as np\n",
        "import matplotlib.pyplot as plt\n",
        "\n",
        "\n"
      ]
    },
    {
      "cell_type": "code",
      "source": [
        "dataset= \"advertising_sales_data.xlsx\"\n",
        "df = pd.read_excel(dataset)\n"
      ],
      "metadata": {
        "id": "FXZ4WtTNiyie"
      },
      "execution_count": 5,
      "outputs": []
    },
    {
      "cell_type": "markdown",
      "source": [
        "Assigning independent to x and dependent to y"
      ],
      "metadata": {
        "id": "FMfcbhVdmxFg"
      }
    },
    {
      "cell_type": "code",
      "source": [
        "x = df.iloc[:,1:-1].values\n",
        "y = df.iloc[:,-1]"
      ],
      "metadata": {
        "id": "ejBYsrrTjekR"
      },
      "execution_count": 6,
      "outputs": []
    },
    {
      "cell_type": "markdown",
      "source": [
        "1 & 2. Avg of TV and Correlation between radio advertising expenditure and product sales"
      ],
      "metadata": {
        "id": "3DJOhGyfsnuv"
      }
    },
    {
      "cell_type": "code",
      "source": [
        "print(df.isnull().sum())\n",
        "print(\"Average TV Advertising Cost:\", df[\"TV\"].mean())\n",
        "numerical_cols = df.select_dtypes(include=np.number).columns\n",
        "correlation_matrix = df[numerical_cols].corr()\n",
        "print(correlation_matrix)"
      ],
      "metadata": {
        "colab": {
          "base_uri": "https://localhost:8080/"
        },
        "id": "9u-xJJ9qi44p",
        "outputId": "0efc92da-42a4-41b4-98fd-90522763897e"
      },
      "execution_count": 7,
      "outputs": [
        {
          "output_type": "stream",
          "name": "stdout",
          "text": [
            "Campaign     0\n",
            "TV           0\n",
            "Radio        2\n",
            "Newspaper    0\n",
            "Sales        0\n",
            "dtype: int64\n",
            "Average TV Advertising Cost: 147.0425\n",
            "                 TV     Radio  Newspaper     Sales\n",
            "TV         1.000000  0.054848   0.056648  0.901208\n",
            "Radio      0.054848  1.000000   0.354987  0.349728\n",
            "Newspaper  0.056648  0.354987   1.000000  0.157960\n",
            "Sales      0.901208  0.349728   0.157960  1.000000\n"
          ]
        }
      ]
    },
    {
      "cell_type": "markdown",
      "source": [
        "3. TV has the highest correlation with Sales (0.90) → Strong Positive Impact"
      ],
      "metadata": {
        "id": "lhL8Uz9ClG2S"
      }
    },
    {
      "cell_type": "markdown",
      "source": [
        "Missing Values"
      ],
      "metadata": {
        "id": "0hNFNj1SmAC4"
      }
    },
    {
      "cell_type": "code",
      "source": [
        "import numpy as np\n",
        "from sklearn.impute import SimpleImputer\n",
        "imputer = SimpleImputer(missing_values=np.nan, strategy='mean')\n",
        "imputer.fit(x[:,[1]])\n",
        "x[:,[1]] = imputer.transform(x[:,[1]])\n",
        "print(x)\n"
      ],
      "metadata": {
        "colab": {
          "base_uri": "https://localhost:8080/"
        },
        "id": "SrWLYBJ9mBwX",
        "outputId": "7da5da94-3853-453c-bcb2-0610d5f14d9c"
      },
      "execution_count": 8,
      "outputs": [
        {
          "output_type": "stream",
          "name": "stdout",
          "text": [
            "[[230.1         37.8         69.2       ]\n",
            " [ 44.5         39.3         45.1       ]\n",
            " [ 17.2         45.9         69.3       ]\n",
            " [151.5         41.3         58.5       ]\n",
            " [180.8         10.8         58.4       ]\n",
            " [  8.7         48.9         75.        ]\n",
            " [ 57.5         32.8         23.5       ]\n",
            " [120.2         19.6         11.6       ]\n",
            " [  8.6          2.1          1.        ]\n",
            " [199.8          2.6         21.2       ]\n",
            " [ 66.1          5.8         24.2       ]\n",
            " [214.7         24.           4.        ]\n",
            " [ 23.8         35.1         65.9       ]\n",
            " [ 97.5          7.6          7.2       ]\n",
            " [204.1         32.9         46.        ]\n",
            " [195.4         47.7         52.9       ]\n",
            " [ 67.8         36.6        114.        ]\n",
            " [281.4         39.6         55.8       ]\n",
            " [ 69.2         20.5         18.3       ]\n",
            " [147.3         23.26060606  19.1       ]\n",
            " [218.4         27.7         53.4       ]\n",
            " [237.4          5.1         23.5       ]\n",
            " [ 13.2         15.9         49.6       ]\n",
            " [228.3         16.9         26.2       ]\n",
            " [ 62.3         12.6         18.3       ]\n",
            " [262.9          3.5         19.5       ]\n",
            " [142.9         29.3         12.6       ]\n",
            " [240.1         16.7         22.9       ]\n",
            " [248.8         27.1         22.9       ]\n",
            " [ 70.6         16.          40.8       ]\n",
            " [292.9         28.3         43.2       ]\n",
            " [112.9         17.4         38.6       ]\n",
            " [ 97.2          1.5         30.        ]\n",
            " [265.6         20.           0.3       ]\n",
            " [ 95.7          1.4          7.4       ]\n",
            " [290.7          4.1          8.5       ]\n",
            " [266.9         43.8          5.        ]\n",
            " [ 74.7         49.4         45.7       ]\n",
            " [ 43.1         26.7         35.1       ]\n",
            " [228.          37.7         32.        ]\n",
            " [202.5         22.3         31.6       ]\n",
            " [177.          33.4         38.7       ]\n",
            " [293.6         27.7          1.8       ]\n",
            " [206.9          8.4         26.4       ]\n",
            " [ 25.1         25.7         43.3       ]\n",
            " [175.1         22.5         31.5       ]\n",
            " [ 89.7          9.9         35.7       ]\n",
            " [239.9         41.5         18.5       ]\n",
            " [227.2         15.8         49.9       ]\n",
            " [ 66.9         11.7         36.8       ]\n",
            " [199.8          3.1         34.6       ]\n",
            " [100.4          9.6          3.6       ]\n",
            " [216.4         41.7         39.6       ]\n",
            " [182.6         46.2         58.7       ]\n",
            " [262.7         28.8         15.9       ]\n",
            " [198.9         49.4         60.        ]\n",
            " [  7.3         28.1         41.4       ]\n",
            " [136.2         19.2         16.6       ]\n",
            " [210.8         49.6         37.7       ]\n",
            " [210.7         29.5          9.3       ]\n",
            " [ 53.5          2.          21.4       ]\n",
            " [261.3         42.7         54.7       ]\n",
            " [239.3         15.5         27.3       ]\n",
            " [102.7         29.6          8.4       ]\n",
            " [131.1         42.8         28.9       ]\n",
            " [ 69.           9.3          0.9       ]\n",
            " [ 31.5         24.6          2.2       ]\n",
            " [139.3         14.5         10.2       ]\n",
            " [237.4         27.5         11.        ]\n",
            " [216.8         43.9         27.2       ]\n",
            " [199.1         30.6         38.7       ]\n",
            " [109.8         14.3         31.7       ]\n",
            " [ 26.8         33.          19.3       ]\n",
            " [129.4          5.7         31.3       ]\n",
            " [213.4         24.6         13.1       ]\n",
            " [ 16.9         43.7         89.4       ]\n",
            " [ 27.5          1.6         20.7       ]\n",
            " [120.5         28.5         14.2       ]\n",
            " [  5.4         29.9          9.4       ]\n",
            " [116.           7.7         23.1       ]\n",
            " [ 76.4         26.7         22.3       ]\n",
            " [239.8          4.1         36.9       ]\n",
            " [ 75.3         20.3         32.5       ]\n",
            " [ 68.4         44.5         35.6       ]\n",
            " [213.5         43.          33.8       ]\n",
            " [193.2         18.4         65.7       ]\n",
            " [ 76.3         27.5         16.        ]\n",
            " [110.7         40.6         63.2       ]\n",
            " [ 88.3         25.5         73.4       ]\n",
            " [109.8         47.8         51.4       ]\n",
            " [134.3          4.9          9.3       ]\n",
            " [ 28.6          1.5         33.        ]\n",
            " [217.7         33.5         59.        ]\n",
            " [250.9         36.5         72.3       ]\n",
            " [107.4         14.          10.9       ]\n",
            " [163.3         31.6         52.9       ]\n",
            " [197.6          3.5          5.9       ]\n",
            " [184.9         21.          22.        ]\n",
            " [289.7         42.3         51.2       ]\n",
            " [135.2         41.7         45.9       ]\n",
            " [222.4          4.3         49.8       ]\n",
            " [296.4         36.3        100.9       ]\n",
            " [280.2         10.1         21.4       ]\n",
            " [187.9         17.2         17.9       ]\n",
            " [238.2         34.3          5.3       ]\n",
            " [137.9         46.4         59.        ]\n",
            " [ 25.          11.          29.7       ]\n",
            " [ 90.4          0.3         23.2       ]\n",
            " [ 13.1          0.4         25.6       ]\n",
            " [255.4         26.9          5.5       ]\n",
            " [225.8          8.2         56.5       ]\n",
            " [241.7         38.          23.2       ]\n",
            " [175.7         15.4          2.4       ]\n",
            " [209.6         20.6         10.7       ]\n",
            " [ 78.2         46.8         34.5       ]\n",
            " [ 75.1         35.          52.7       ]\n",
            " [139.2         14.3         25.6       ]\n",
            " [ 76.4          0.8         14.8       ]\n",
            " [125.7         36.9         79.2       ]\n",
            " [ 19.4         16.          22.3       ]\n",
            " [141.3         26.8         46.2       ]\n",
            " [ 18.8         21.7         50.4       ]\n",
            " [224.           2.4         15.6       ]\n",
            " [123.1         34.6         12.4       ]\n",
            " [229.5         32.3         74.2       ]\n",
            " [ 87.2         11.8         25.9       ]\n",
            " [  7.8         38.9         50.6       ]\n",
            " [ 80.2          0.           9.2       ]\n",
            " [220.3         49.           3.2       ]\n",
            " [ 59.6         12.          43.1       ]\n",
            " [  0.7         39.6          8.7       ]\n",
            " [265.2          2.9         43.        ]\n",
            " [  8.4         27.2          2.1       ]\n",
            " [219.8         33.5         45.1       ]\n",
            " [ 36.9         38.6         65.6       ]\n",
            " [ 48.3         47.           8.5       ]\n",
            " [ 25.6         39.           9.3       ]\n",
            " [273.7         28.9         59.7       ]\n",
            " [ 43.          25.9         20.5       ]\n",
            " [184.9         43.9          1.7       ]\n",
            " [ 73.4         17.          12.9       ]\n",
            " [193.7         35.4         75.6       ]\n",
            " [220.5         33.2         37.9       ]\n",
            " [104.6          5.7         34.4       ]\n",
            " [ 96.2         14.8         38.9       ]\n",
            " [140.3          1.9          9.        ]\n",
            " [240.1          7.3          8.7       ]\n",
            " [243.2         49.          44.3       ]\n",
            " [ 38.          40.3         11.9       ]\n",
            " [ 44.7         25.8         20.6       ]\n",
            " [280.7         13.9         37.        ]\n",
            " [121.           8.4         48.7       ]\n",
            " [197.6         23.26060606  14.2       ]\n",
            " [171.3         39.7         37.7       ]\n",
            " [187.8         21.1          9.5       ]\n",
            " [  4.1         11.6          5.7       ]\n",
            " [ 93.9         43.5         50.5       ]\n",
            " [149.8          1.3         24.3       ]\n",
            " [ 11.7         36.9         45.2       ]\n",
            " [131.7         18.4         34.6       ]\n",
            " [172.5         18.1         30.7       ]\n",
            " [ 85.7         35.8         49.3       ]\n",
            " [188.4         18.1         25.6       ]\n",
            " [163.5         36.8          7.4       ]\n",
            " [117.2         14.7          5.4       ]\n",
            " [234.5          3.4         84.8       ]\n",
            " [ 17.9         37.6         21.6       ]\n",
            " [206.8          5.2         19.4       ]\n",
            " [215.4         23.6         57.6       ]\n",
            " [284.3         10.6          6.4       ]\n",
            " [ 50.          11.6         18.4       ]\n",
            " [164.5         20.9         47.4       ]\n",
            " [ 19.6         20.1         17.        ]\n",
            " [168.4          7.1         12.8       ]\n",
            " [222.4          3.4         13.1       ]\n",
            " [276.9         48.9         41.8       ]\n",
            " [248.4         30.2         20.3       ]\n",
            " [170.2          7.8         35.2       ]\n",
            " [276.7          2.3         23.7       ]\n",
            " [165.6         10.          17.6       ]\n",
            " [156.6          2.6          8.3       ]\n",
            " [218.5          5.4         27.4       ]\n",
            " [ 56.2          5.7         29.7       ]\n",
            " [287.6         43.          71.8       ]\n",
            " [253.8         21.3         30.        ]\n",
            " [205.          45.1         19.6       ]\n",
            " [139.5          2.1         26.6       ]\n",
            " [191.1         28.7         18.2       ]\n",
            " [286.          13.9          3.7       ]\n",
            " [ 18.7         12.1         23.4       ]\n",
            " [ 39.5         41.1          5.8       ]\n",
            " [ 75.5         10.8          6.        ]\n",
            " [ 17.2          4.1         31.6       ]\n",
            " [166.8         42.           3.6       ]\n",
            " [149.7         35.6          6.        ]\n",
            " [ 38.2          3.7         13.8       ]\n",
            " [ 94.2          4.9          8.1       ]\n",
            " [177.           9.3          6.4       ]\n",
            " [283.6         42.          66.2       ]\n",
            " [232.1          8.6          8.7       ]]\n"
          ]
        }
      ]
    },
    {
      "cell_type": "markdown",
      "source": [
        "Splitting Data into train and test sets"
      ],
      "metadata": {
        "id": "UN7iOmR6oQUL"
      }
    },
    {
      "cell_type": "code",
      "source": [
        "from sklearn.model_selection import train_test_split\n",
        "x_train,x_test,y_train,y_test=train_test_split(x,y,test_size=0.2,random_state=1)"
      ],
      "metadata": {
        "id": "O1WfCBsyoUDN"
      },
      "execution_count": 9,
      "outputs": []
    },
    {
      "cell_type": "markdown",
      "source": [
        "Feature Scaling"
      ],
      "metadata": {
        "id": "3vL5REBpokdP"
      }
    },
    {
      "cell_type": "code",
      "source": [
        "from sklearn.preprocessing import StandardScaler\n",
        "sc = StandardScaler()\n",
        "x_train = sc.fit_transform(x_train)\n",
        "x_test = sc.transform(x_test)\n",
        "\n",
        "\n"
      ],
      "metadata": {
        "id": "T4Upr16PpD6M"
      },
      "execution_count": 10,
      "outputs": []
    },
    {
      "cell_type": "code",
      "source": [
        "print(x_train)\n"
      ],
      "metadata": {
        "colab": {
          "base_uri": "https://localhost:8080/"
        },
        "id": "8JQfI2aHpbLU",
        "outputId": "b0c5d161-7274-4d80-9efe-af4e898042ab"
      },
      "execution_count": 11,
      "outputs": [
        {
          "output_type": "stream",
          "name": "stdout",
          "text": [
            "[[-1.47861420e+00 -1.50713701e+00 -2.07096465e-01]\n",
            " [-5.93912087e-01 -1.51371907e+00 -3.21290955e-01]\n",
            " [-1.41452194e+00 -7.37035429e-01 -3.11774748e-01]\n",
            " [ 7.07389725e-01  6.32034043e-01  7.63556698e-01]\n",
            " [-1.54499547e+00  3.16094934e-01  5.44683926e-01]\n",
            " [ 5.73110715e-02 -2.43710921e-03 -5.16373209e-01]\n",
            " [-7.33541657e-01  1.54694105e+00  2.16374768e-01]\n",
            " [ 9.80926342e-01  9.47973152e-01  9.74221741e-02]\n",
            " [ 7.17690268e-01  1.43504595e+00 -4.92582690e-01]\n",
            " [ 9.98093912e-01  5.92541655e-01  2.10534195e+00]\n",
            " [ 1.68708573e+00  1.25074813e+00  1.01097809e+00]\n",
            " [-2.19659059e-01  7.43929144e-01 -8.35166159e-01]\n",
            " [-1.40651040e+00 -4.80334903e-01 -3.64113889e-01]\n",
            " [ 4.61321221e-01  1.50744866e+00  1.36783587e+00]\n",
            " [ 1.41126010e+00 -2.17052312e-01 -1.41089671e+00]\n",
            " [ 2.66755427e-01 -8.75258789e-01 -5.87744765e-01]\n",
            " [ 8.72198398e-01 -1.17803377e+00 -1.21450598e-01]\n",
            " [-1.34241814e+00 -8.09438141e-01 -1.20142119e-02]\n",
            " [ 1.02785103e+00 -9.67407696e-01 -1.01121600e+00]\n",
            " [-1.13640730e+00  1.71289509e-01 -4.49759756e-01]\n",
            " [-3.53938070e-02 -5.92230004e-01 -2.07096465e-01]\n",
            " [-3.42493023e-02 -5.79065874e-01 -9.39844442e-01]\n",
            " [-1.56674106e+00  4.34572100e-01 -9.77909272e-01]\n",
            " [ 1.73172141e+00  2.89766675e-01 -1.33952516e+00]\n",
            " [ 1.59209184e+00  1.07303238e+00  1.22985086e+00]\n",
            " [-1.52897240e+00  1.68516441e+00  2.14340678e+00]\n",
            " [-7.10651564e-01 -1.53346527e+00 -9.87425479e-01]\n",
            " [-5.02723677e-02  1.52061279e+00  1.38211018e+00]\n",
            " [ 9.71770305e-01 -4.93499032e-01  9.49122744e-01]\n",
            " [-1.26802534e+00  8.57226674e-02 -1.32049274e+00]\n",
            " [ 1.37806946e+00  3.62169388e-01 -6.68632528e-01]\n",
            " [ 8.14973165e-01  1.29682258e+00  1.83068041e-01]\n",
            " [ 1.66305113e+00  1.29682258e+00  1.99114746e+00]\n",
            " [-1.49463726e+00  8.95316634e-01  7.25491868e-01]\n",
            " [-1.42367797e+00  9.41391087e-01 -3.97420615e-01]\n",
            " [ 7.70337482e-01 -1.77559923e-01 -9.16053923e-01]\n",
            " [-1.35615220e+00  7.76839468e-01  1.71041934e+00]\n",
            " [-7.54142741e-01 -1.48080875e+00 -7.20971670e-01]\n",
            " [ 1.24301791e+00  8.68988375e-01  2.01493798e+00]\n",
            " [-1.13592089e-02  2.30528092e-01  7.73072905e-01]\n",
            " [ 5.20835464e-01 -1.44649600e-01 -9.73151168e-01]\n",
            " [-9.14745359e-02 -1.21094409e+00 -9.82667375e-01]\n",
            " [ 1.11597789e+00 -1.26360061e+00  3.30569257e-01]\n",
            " [ 9.35146155e-01 -1.37549571e+00 -6.82906840e-01]\n",
            " [-7.64443283e-01 -8.22602271e-01 -1.13968480e+00]\n",
            " [-5.12652255e-01 -1.03322834e+00 -1.08258755e+00]\n",
            " [-7.66732293e-01 -1.97306118e-01  1.21212693e-01]\n",
            " [-1.53240592e+00  2.56856351e-01 -1.32525084e+00]\n",
            " [ 5.58604118e-01  3.55587323e-01 -5.59196142e-01]\n",
            " [ 3.75483370e-01 -5.25006928e-02  7.36316554e-02]\n",
            " [-8.11739939e-02  1.21125574e+00  7.58798594e-01]\n",
            " [ 1.42613866e+00  1.34947910e+00 -1.18726584e+00]\n",
            " [-6.47703807e-01  8.22913921e-01  9.20574121e-01]\n",
            " [-3.19602930e-02 -1.39524191e+00 -1.59515428e-01]\n",
            " [ 3.31992193e-01  1.07961445e+00  3.68634087e-01]\n",
            " [ 5.21979969e-01 -4.01350126e-01 -5.73470454e-01]\n",
            " [-1.19134353e+00 -1.28992887e+00 -7.68552707e-01]\n",
            " [ 3.97228959e-01 -9.21333242e-01 -1.12065238e+00]\n",
            " [-1.19363254e+00  1.11910684e+00 -8.58956678e-01]\n",
            " [ 2.98801557e-01 -1.06613867e+00 -8.16133744e-01]\n",
            " [-1.43512302e+00  1.34289704e+00  2.82857372e+00]\n",
            " [ 1.08850978e+00 -1.19777996e+00 -3.07016644e-01]\n",
            " [-1.30121597e+00 -1.43473429e+00  1.45003212e-01]\n",
            " [ 6.32996922e-01 -2.43710921e-03 -7.49520292e-01]\n",
            " [-1.43168951e+00  1.48770246e+00  1.87219487e+00]\n",
            " [ 6.50164492e-01  4.80646554e-01  4.16215125e-01]\n",
            " [ 5.82638716e-01 -3.22365348e-01  1.70090314e+00]\n",
            " [ 1.58408030e+00 -6.18558263e-01  3.35327361e-01]\n",
            " [-9.70454124e-01  6.25451978e-01 -3.07016644e-01]\n",
            " [ 3.82350398e-01 -5.19827291e-01 -1.31097653e+00]\n",
            " [ 1.00496094e+00  9.54555217e-01  1.86743677e+00]\n",
            " [-1.58161962e+00 -7.69945753e-01 -1.15395911e+00]\n",
            " [-2.49416181e-01  3.42423193e-01 -7.49520292e-01]\n",
            " [-8.38836087e-01 -9.21333242e-01 -1.38234809e+00]\n",
            " [ 6.47875482e-01  1.71807473e+00  1.42969122e+00]\n",
            " [ 7.38291352e-01 -1.19119790e+00 -5.02098897e-01]\n",
            " [-6.17946685e-01  1.44961250e-01  2.06727712e+00]\n",
            " [-1.62053278e+00  1.07303238e+00 -1.01121600e+00]\n",
            " [-6.01923620e-01 -8.81840854e-01  2.73472013e-01]\n",
            " [ 1.11025537e+00 -5.13245227e-01 -1.26208702e-01]\n",
            " [ 8.13828660e-01  8.57226674e-02 -8.01859433e-01]\n",
            " [ 8.63042361e-01  6.71526432e-01  1.38211018e+00]\n",
            " [ 1.15489105e+00  1.69174647e+00  6.82668934e-01]\n",
            " [ 3.45726249e-01 -3.42111543e-01  3.55668255e-02]\n",
            " [-4.31392424e-01 -1.15828757e+00  2.11616664e-01]\n",
            " [-3.61577639e-01  1.13885303e+00  1.58195054e+00]\n",
            " [ 1.63750006e-01 -1.36233158e+00 -1.03024841e+00]\n",
            " [-2.28042556e-02 -1.40840604e+00 -9.96941687e-01]\n",
            " [-2.87184835e-01 -5.65901745e-01 -1.16823342e+00]\n",
            " [-8.72026723e-01 -1.15170551e+00 -2.73709918e-01]\n",
            " [-5.16085769e-01 -1.43473429e+00  2.26009928e-03]\n",
            " [-8.45703115e-01  1.39555356e+00  2.68713909e-01]\n",
            " [-9.85332685e-01 -1.15828757e+00 -1.20142119e-02]\n",
            " [ 9.16834081e-01 -1.25043648e+00  9.44364640e-01]\n",
            " [-6.30536237e-01 -7.56781623e-01 -1.92822154e-01]\n",
            " [ 9.84359856e-01 -4.21096320e-01 -1.78547843e-01]\n",
            " [-1.53927295e+00  1.02695793e+00  9.82429470e-01]\n",
            " [ 6.58176025e-01 -1.36233158e+00 -4.16453030e-01]\n",
            " [-1.05629197e+00 -7.69945753e-01 -5.49679935e-01]\n",
            " [ 1.09766582e+00  7.24182950e-01 -1.17299152e+00]\n",
            " [-2.43693657e-01 -9.80571825e-01  8.92025499e-01]\n",
            " [-1.07574855e+00  1.56010518e+00 -1.02073221e+00]\n",
            " [ 1.13772348e+00  9.67719346e-01 -3.21290955e-01]\n",
            " [ 1.64473905e+00 -6.18558263e-01 -1.24912118e+00]\n",
            " [-1.28098685e-01  1.28365846e+00 -5.00790419e-02]\n",
            " [ 6.07817819e-01  1.60617963e+00  1.09186586e+00]\n",
            " [ 3.97228959e-01  6.64944367e-01  4.16215125e-01]\n",
            " [ 2.42720828e-01  8.88734569e-01 -1.07307135e+00]\n",
            " [ 1.29452062e+00  2.37110157e-01 -1.16347532e+00]\n",
            " [-7.54142741e-01  2.23946028e-01 -3.64113889e-01]\n",
            " [ 8.48163800e-01  1.21125574e+00  4.59038059e-01]\n",
            " [ 6.95286589e-03  3.95079712e-01 -8.25649952e-01]\n",
            " [-1.31380553e+00 -1.42815223e+00 -4.40243549e-01]\n",
            " [ 7.39435856e-01 -9.80571825e-01 -1.69031635e-01]\n",
            " [-9.15517900e-01 -7.04125105e-01 -5.54438039e-01]\n",
            " [ 1.05380268e-01  1.18492748e+00  1.35831967e+00]\n",
            " [ 1.62528247e+00 -8.35766400e-01 -1.12065238e+00]\n",
            " [-8.62870685e-01 -7.63363688e-01  3.25811154e-01]\n",
            " [-1.11695072e+00  1.64707445e-01 -4.45001652e-01]\n",
            " [ 1.40668208e+00 -1.34258539e+00  6.20813586e-01]\n",
            " [-1.17646497e+00  1.17176335e+00 -1.14920101e+00]\n",
            " [ 1.72370987e+00  3.29259064e-01  6.30329793e-01]\n",
            " [-1.41337743e+00 -1.05157211e-01  9.72913263e-01]\n",
            " [-7.69021302e-01  7.70257403e-01  1.08234965e+00]\n",
            " [ 1.54058913e+00  1.68516441e+00  5.63716341e-01]\n",
            " [-1.53011691e+00 -1.39524191e+00 -1.37758999e+00]\n",
            " [-1.01623431e+00 -1.40182397e+00 -4.06936823e-01]\n",
            " [ 8.92799482e-01  1.69174647e+00 -1.27291170e+00]\n",
            " [-1.11923973e+00  1.05328619e+00  7.20733764e-01]\n",
            " [-6.97289472e-02 -2.69708830e-01 -6.35325802e-01]\n",
            " [-1.47746969e+00 -4.86916967e-01  9.34848433e-01]\n",
            " [ 1.36204640e+00  1.27707639e+00  1.17751172e+00]\n",
            " [-4.53138012e-01  4.14825906e-01 -1.02549031e+00]\n",
            " [-2.52849695e-01 -2.43380571e-01 -8.73230989e-01]\n",
            " [-5.50420910e-01 -1.21094409e+00 -1.03976462e+00]\n",
            " [ 5.88361240e-01  7.96585662e-01  2.17195541e+00]\n",
            " [-7.55287246e-01  2.76602546e-01 -6.63874425e-01]\n",
            " [ 6.32996922e-01 -1.30309300e+00 -1.14444290e+00]\n",
            " [ 1.08850978e+00  2.76602546e-01 -9.01779612e-01]\n",
            " [ 6.58176025e-01 -1.32942126e+00  2.21132871e-01]\n",
            " [ 8.95088492e-01  6.51780238e-01  3.78150295e-01]\n",
            " [ 8.59236883e-02 -1.44789842e+00 -2.68951814e-01]\n",
            " [-5.53854424e-01  1.32973291e+00  9.77671366e-01]\n",
            " [ 4.87644828e-01  1.35606117e+00 -1.34428326e+00]\n",
            " [ 1.11941141e+00 -1.05297454e+00 -1.01121600e+00]\n",
            " [ 1.76376754e+00  8.55824245e-01  3.37575565e+00]\n",
            " [ 8.71053894e-01  2.89766675e-01  1.11565637e+00]\n",
            " [ 1.53830012e+00 -1.38207778e+00 -2.97500436e-01]\n",
            " [ 1.38035847e+00 -1.30309300e+00 -4.97340794e-01]\n",
            " [-1.20622209e+00  1.00721174e+00  1.69614503e+00]\n",
            " [-3.71878181e-01 -5.92230004e-01  8.31478629e-02]\n",
            " [-9.46419526e-01 -7.43617493e-01  6.25571689e-01]\n",
            " [-5.27530816e-01 -5.59319680e-01  4.25731332e-01]\n",
            " [-1.43168951e+00 -1.26360061e+00  7.83897591e-02]\n",
            " [-3.00918891e-01 -1.02664628e+00 -3.26049059e-01]\n",
            " [ 8.87076959e-01  6.71526432e-01  7.20733764e-01]\n",
            " [ 1.50396498e+00  3.68751452e-01  1.41541691e+00]\n",
            " [-1.32181706e+00  6.38616108e-01 -5.06857001e-01]\n",
            " [-7.88477881e-01 -4.14514255e-01 -8.11375641e-01]\n",
            " [-7.73599321e-01  1.71807473e+00  7.49282387e-01]]\n"
          ]
        }
      ]
    },
    {
      "cell_type": "code",
      "source": [
        "print(x_test)"
      ],
      "metadata": {
        "colab": {
          "base_uri": "https://localhost:8080/"
        },
        "id": "OEmZKJltpmOb",
        "outputId": "89b7faff-02b4-43d2-e427-4e81a2e27e61"
      },
      "execution_count": 12,
      "outputs": [
        {
          "output_type": "stream",
          "name": "stdout",
          "text": [
            "[[ 7.84071539e-01  1.73123886e+00  3.68634087e-01]\n",
            " [ 6.89077651e-01 -6.56648223e-02  7.83897591e-02]\n",
            " [-5.33253340e-01 -1.44131636e+00 -1.07307135e+00]\n",
            " [ 1.57835778e+00 -8.68676724e-01 -4.06936823e-01]\n",
            " [ 1.27620855e+00 -1.31485470e-01  2.26009928e-03]\n",
            " [ 1.61727094e+00  1.23100194e+00  1.72469365e+00]\n",
            " [ 2.40431819e-01  5.46467201e-01  1.09186586e+00]\n",
            " [ 4.40720137e-01 -8.22602271e-01  1.35356156e+00]\n",
            " [-8.20524012e-01 -4.80334903e-01  5.16135303e-01]\n",
            " [ 8.36718753e-01  1.99020197e-02  1.31549673e+00]\n",
            " [ 2.54165875e-01 -1.57813729e-01  8.30170150e-01]\n",
            " [-8.36547078e-01 -1.84141988e-01 -5.54438039e-01]\n",
            " [ 8.28707221e-01  4.62302788e-02 -1.23484687e+00]\n",
            " [-3.71878181e-01  1.61276169e+00  1.02049430e+00]\n",
            " [ 9.55747239e-01 -9.93735955e-01  1.26315759e+00]\n",
            " [-1.89901938e-01  8.95316634e-01  2.34324714e+00]\n",
            " [-1.21231657e-01 -3.22365348e-01  2.21132871e-01]\n",
            " [ 1.69853077e+00 -1.26360061e+00 -1.02073221e+00]\n",
            " [-1.33555111e+00  1.03353999e+00 -9.82667375e-01]\n",
            " [ 7.82927034e-01  4.08243841e-01 -9.82667375e-01]\n",
            " [-4.79461620e-01 -9.01587048e-01 -1.25387929e+00]\n",
            " [-8.52570143e-01  8.75570440e-01  3.99906724e+00]\n",
            " [-1.34127364e+00  1.58125380e-01  6.35087897e-01]\n",
            " [-3.99346293e-01 -6.11976198e-01 -9.06537715e-01]\n",
            " [-3.36398536e-01 -3.88185996e-01  4.11457021e-01]\n",
            " [ 5.27702492e-01 -3.42111543e-01 -2.07096465e-01]\n",
            " [-1.13526280e+00  2.23946028e-01  2.44923390e-01]\n",
            " [ 1.21898331e+00  2.50274287e-01 -3.35565266e-01]\n",
            " [ 2.80489483e-01  1.23100194e+00 -1.25387929e+00]\n",
            " [ 1.11941141e+00 -4.34260449e-01 -3.35565266e-01]\n",
            " [ 1.11712240e+00  1.19809161e+00 -5.44921831e-01]\n",
            " [ 1.05531915e+00 -1.30967506e+00  2.60970095e+00]\n",
            " [ 8.47791836e-02  8.09749792e-01 -1.13968480e+00]\n",
            " [ 3.19402641e-01 -1.02006421e+00  2.49681494e-01]\n",
            " [ 1.21440530e+00  4.54318294e-01 -4.59275964e-01]\n",
            " [ 4.87644828e-01 -1.51231664e-01 -3.78388200e-01]\n",
            " [ 9.16834081e-01 -1.30967506e+00 -8.01859433e-01]\n",
            " [-1.47555265e-01 -1.15828757e+00  6.41154479e-02]\n",
            " [ 8.52741819e-01  1.35606117e+00 -1.30966805e-01]\n",
            " [-1.40422140e+00 -2.10470247e-01 -6.16293387e-01]]\n"
          ]
        }
      ]
    },
    {
      "cell_type": "markdown",
      "source": [
        "Training Model"
      ],
      "metadata": {
        "id": "GAwm4vxBp4XS"
      }
    },
    {
      "cell_type": "code",
      "source": [
        "from sklearn.linear_model import LinearRegression\n",
        "regressor=LinearRegression()\n",
        "regressor.fit(x_train,y_train)\n"
      ],
      "metadata": {
        "colab": {
          "base_uri": "https://localhost:8080/",
          "height": 80
        },
        "id": "mBAm3gQTqajT",
        "outputId": "e1e5d622-edb1-4dbd-babb-0812e13b3f28"
      },
      "execution_count": 13,
      "outputs": [
        {
          "output_type": "execute_result",
          "data": {
            "text/plain": [
              "LinearRegression()"
            ],
            "text/html": [
              "<style>#sk-container-id-1 {\n",
              "  /* Definition of color scheme common for light and dark mode */\n",
              "  --sklearn-color-text: #000;\n",
              "  --sklearn-color-text-muted: #666;\n",
              "  --sklearn-color-line: gray;\n",
              "  /* Definition of color scheme for unfitted estimators */\n",
              "  --sklearn-color-unfitted-level-0: #fff5e6;\n",
              "  --sklearn-color-unfitted-level-1: #f6e4d2;\n",
              "  --sklearn-color-unfitted-level-2: #ffe0b3;\n",
              "  --sklearn-color-unfitted-level-3: chocolate;\n",
              "  /* Definition of color scheme for fitted estimators */\n",
              "  --sklearn-color-fitted-level-0: #f0f8ff;\n",
              "  --sklearn-color-fitted-level-1: #d4ebff;\n",
              "  --sklearn-color-fitted-level-2: #b3dbfd;\n",
              "  --sklearn-color-fitted-level-3: cornflowerblue;\n",
              "\n",
              "  /* Specific color for light theme */\n",
              "  --sklearn-color-text-on-default-background: var(--sg-text-color, var(--theme-code-foreground, var(--jp-content-font-color1, black)));\n",
              "  --sklearn-color-background: var(--sg-background-color, var(--theme-background, var(--jp-layout-color0, white)));\n",
              "  --sklearn-color-border-box: var(--sg-text-color, var(--theme-code-foreground, var(--jp-content-font-color1, black)));\n",
              "  --sklearn-color-icon: #696969;\n",
              "\n",
              "  @media (prefers-color-scheme: dark) {\n",
              "    /* Redefinition of color scheme for dark theme */\n",
              "    --sklearn-color-text-on-default-background: var(--sg-text-color, var(--theme-code-foreground, var(--jp-content-font-color1, white)));\n",
              "    --sklearn-color-background: var(--sg-background-color, var(--theme-background, var(--jp-layout-color0, #111)));\n",
              "    --sklearn-color-border-box: var(--sg-text-color, var(--theme-code-foreground, var(--jp-content-font-color1, white)));\n",
              "    --sklearn-color-icon: #878787;\n",
              "  }\n",
              "}\n",
              "\n",
              "#sk-container-id-1 {\n",
              "  color: var(--sklearn-color-text);\n",
              "}\n",
              "\n",
              "#sk-container-id-1 pre {\n",
              "  padding: 0;\n",
              "}\n",
              "\n",
              "#sk-container-id-1 input.sk-hidden--visually {\n",
              "  border: 0;\n",
              "  clip: rect(1px 1px 1px 1px);\n",
              "  clip: rect(1px, 1px, 1px, 1px);\n",
              "  height: 1px;\n",
              "  margin: -1px;\n",
              "  overflow: hidden;\n",
              "  padding: 0;\n",
              "  position: absolute;\n",
              "  width: 1px;\n",
              "}\n",
              "\n",
              "#sk-container-id-1 div.sk-dashed-wrapped {\n",
              "  border: 1px dashed var(--sklearn-color-line);\n",
              "  margin: 0 0.4em 0.5em 0.4em;\n",
              "  box-sizing: border-box;\n",
              "  padding-bottom: 0.4em;\n",
              "  background-color: var(--sklearn-color-background);\n",
              "}\n",
              "\n",
              "#sk-container-id-1 div.sk-container {\n",
              "  /* jupyter's `normalize.less` sets `[hidden] { display: none; }`\n",
              "     but bootstrap.min.css set `[hidden] { display: none !important; }`\n",
              "     so we also need the `!important` here to be able to override the\n",
              "     default hidden behavior on the sphinx rendered scikit-learn.org.\n",
              "     See: https://github.com/scikit-learn/scikit-learn/issues/21755 */\n",
              "  display: inline-block !important;\n",
              "  position: relative;\n",
              "}\n",
              "\n",
              "#sk-container-id-1 div.sk-text-repr-fallback {\n",
              "  display: none;\n",
              "}\n",
              "\n",
              "div.sk-parallel-item,\n",
              "div.sk-serial,\n",
              "div.sk-item {\n",
              "  /* draw centered vertical line to link estimators */\n",
              "  background-image: linear-gradient(var(--sklearn-color-text-on-default-background), var(--sklearn-color-text-on-default-background));\n",
              "  background-size: 2px 100%;\n",
              "  background-repeat: no-repeat;\n",
              "  background-position: center center;\n",
              "}\n",
              "\n",
              "/* Parallel-specific style estimator block */\n",
              "\n",
              "#sk-container-id-1 div.sk-parallel-item::after {\n",
              "  content: \"\";\n",
              "  width: 100%;\n",
              "  border-bottom: 2px solid var(--sklearn-color-text-on-default-background);\n",
              "  flex-grow: 1;\n",
              "}\n",
              "\n",
              "#sk-container-id-1 div.sk-parallel {\n",
              "  display: flex;\n",
              "  align-items: stretch;\n",
              "  justify-content: center;\n",
              "  background-color: var(--sklearn-color-background);\n",
              "  position: relative;\n",
              "}\n",
              "\n",
              "#sk-container-id-1 div.sk-parallel-item {\n",
              "  display: flex;\n",
              "  flex-direction: column;\n",
              "}\n",
              "\n",
              "#sk-container-id-1 div.sk-parallel-item:first-child::after {\n",
              "  align-self: flex-end;\n",
              "  width: 50%;\n",
              "}\n",
              "\n",
              "#sk-container-id-1 div.sk-parallel-item:last-child::after {\n",
              "  align-self: flex-start;\n",
              "  width: 50%;\n",
              "}\n",
              "\n",
              "#sk-container-id-1 div.sk-parallel-item:only-child::after {\n",
              "  width: 0;\n",
              "}\n",
              "\n",
              "/* Serial-specific style estimator block */\n",
              "\n",
              "#sk-container-id-1 div.sk-serial {\n",
              "  display: flex;\n",
              "  flex-direction: column;\n",
              "  align-items: center;\n",
              "  background-color: var(--sklearn-color-background);\n",
              "  padding-right: 1em;\n",
              "  padding-left: 1em;\n",
              "}\n",
              "\n",
              "\n",
              "/* Toggleable style: style used for estimator/Pipeline/ColumnTransformer box that is\n",
              "clickable and can be expanded/collapsed.\n",
              "- Pipeline and ColumnTransformer use this feature and define the default style\n",
              "- Estimators will overwrite some part of the style using the `sk-estimator` class\n",
              "*/\n",
              "\n",
              "/* Pipeline and ColumnTransformer style (default) */\n",
              "\n",
              "#sk-container-id-1 div.sk-toggleable {\n",
              "  /* Default theme specific background. It is overwritten whether we have a\n",
              "  specific estimator or a Pipeline/ColumnTransformer */\n",
              "  background-color: var(--sklearn-color-background);\n",
              "}\n",
              "\n",
              "/* Toggleable label */\n",
              "#sk-container-id-1 label.sk-toggleable__label {\n",
              "  cursor: pointer;\n",
              "  display: flex;\n",
              "  width: 100%;\n",
              "  margin-bottom: 0;\n",
              "  padding: 0.5em;\n",
              "  box-sizing: border-box;\n",
              "  text-align: center;\n",
              "  align-items: start;\n",
              "  justify-content: space-between;\n",
              "  gap: 0.5em;\n",
              "}\n",
              "\n",
              "#sk-container-id-1 label.sk-toggleable__label .caption {\n",
              "  font-size: 0.6rem;\n",
              "  font-weight: lighter;\n",
              "  color: var(--sklearn-color-text-muted);\n",
              "}\n",
              "\n",
              "#sk-container-id-1 label.sk-toggleable__label-arrow:before {\n",
              "  /* Arrow on the left of the label */\n",
              "  content: \"▸\";\n",
              "  float: left;\n",
              "  margin-right: 0.25em;\n",
              "  color: var(--sklearn-color-icon);\n",
              "}\n",
              "\n",
              "#sk-container-id-1 label.sk-toggleable__label-arrow:hover:before {\n",
              "  color: var(--sklearn-color-text);\n",
              "}\n",
              "\n",
              "/* Toggleable content - dropdown */\n",
              "\n",
              "#sk-container-id-1 div.sk-toggleable__content {\n",
              "  max-height: 0;\n",
              "  max-width: 0;\n",
              "  overflow: hidden;\n",
              "  text-align: left;\n",
              "  /* unfitted */\n",
              "  background-color: var(--sklearn-color-unfitted-level-0);\n",
              "}\n",
              "\n",
              "#sk-container-id-1 div.sk-toggleable__content.fitted {\n",
              "  /* fitted */\n",
              "  background-color: var(--sklearn-color-fitted-level-0);\n",
              "}\n",
              "\n",
              "#sk-container-id-1 div.sk-toggleable__content pre {\n",
              "  margin: 0.2em;\n",
              "  border-radius: 0.25em;\n",
              "  color: var(--sklearn-color-text);\n",
              "  /* unfitted */\n",
              "  background-color: var(--sklearn-color-unfitted-level-0);\n",
              "}\n",
              "\n",
              "#sk-container-id-1 div.sk-toggleable__content.fitted pre {\n",
              "  /* unfitted */\n",
              "  background-color: var(--sklearn-color-fitted-level-0);\n",
              "}\n",
              "\n",
              "#sk-container-id-1 input.sk-toggleable__control:checked~div.sk-toggleable__content {\n",
              "  /* Expand drop-down */\n",
              "  max-height: 200px;\n",
              "  max-width: 100%;\n",
              "  overflow: auto;\n",
              "}\n",
              "\n",
              "#sk-container-id-1 input.sk-toggleable__control:checked~label.sk-toggleable__label-arrow:before {\n",
              "  content: \"▾\";\n",
              "}\n",
              "\n",
              "/* Pipeline/ColumnTransformer-specific style */\n",
              "\n",
              "#sk-container-id-1 div.sk-label input.sk-toggleable__control:checked~label.sk-toggleable__label {\n",
              "  color: var(--sklearn-color-text);\n",
              "  background-color: var(--sklearn-color-unfitted-level-2);\n",
              "}\n",
              "\n",
              "#sk-container-id-1 div.sk-label.fitted input.sk-toggleable__control:checked~label.sk-toggleable__label {\n",
              "  background-color: var(--sklearn-color-fitted-level-2);\n",
              "}\n",
              "\n",
              "/* Estimator-specific style */\n",
              "\n",
              "/* Colorize estimator box */\n",
              "#sk-container-id-1 div.sk-estimator input.sk-toggleable__control:checked~label.sk-toggleable__label {\n",
              "  /* unfitted */\n",
              "  background-color: var(--sklearn-color-unfitted-level-2);\n",
              "}\n",
              "\n",
              "#sk-container-id-1 div.sk-estimator.fitted input.sk-toggleable__control:checked~label.sk-toggleable__label {\n",
              "  /* fitted */\n",
              "  background-color: var(--sklearn-color-fitted-level-2);\n",
              "}\n",
              "\n",
              "#sk-container-id-1 div.sk-label label.sk-toggleable__label,\n",
              "#sk-container-id-1 div.sk-label label {\n",
              "  /* The background is the default theme color */\n",
              "  color: var(--sklearn-color-text-on-default-background);\n",
              "}\n",
              "\n",
              "/* On hover, darken the color of the background */\n",
              "#sk-container-id-1 div.sk-label:hover label.sk-toggleable__label {\n",
              "  color: var(--sklearn-color-text);\n",
              "  background-color: var(--sklearn-color-unfitted-level-2);\n",
              "}\n",
              "\n",
              "/* Label box, darken color on hover, fitted */\n",
              "#sk-container-id-1 div.sk-label.fitted:hover label.sk-toggleable__label.fitted {\n",
              "  color: var(--sklearn-color-text);\n",
              "  background-color: var(--sklearn-color-fitted-level-2);\n",
              "}\n",
              "\n",
              "/* Estimator label */\n",
              "\n",
              "#sk-container-id-1 div.sk-label label {\n",
              "  font-family: monospace;\n",
              "  font-weight: bold;\n",
              "  display: inline-block;\n",
              "  line-height: 1.2em;\n",
              "}\n",
              "\n",
              "#sk-container-id-1 div.sk-label-container {\n",
              "  text-align: center;\n",
              "}\n",
              "\n",
              "/* Estimator-specific */\n",
              "#sk-container-id-1 div.sk-estimator {\n",
              "  font-family: monospace;\n",
              "  border: 1px dotted var(--sklearn-color-border-box);\n",
              "  border-radius: 0.25em;\n",
              "  box-sizing: border-box;\n",
              "  margin-bottom: 0.5em;\n",
              "  /* unfitted */\n",
              "  background-color: var(--sklearn-color-unfitted-level-0);\n",
              "}\n",
              "\n",
              "#sk-container-id-1 div.sk-estimator.fitted {\n",
              "  /* fitted */\n",
              "  background-color: var(--sklearn-color-fitted-level-0);\n",
              "}\n",
              "\n",
              "/* on hover */\n",
              "#sk-container-id-1 div.sk-estimator:hover {\n",
              "  /* unfitted */\n",
              "  background-color: var(--sklearn-color-unfitted-level-2);\n",
              "}\n",
              "\n",
              "#sk-container-id-1 div.sk-estimator.fitted:hover {\n",
              "  /* fitted */\n",
              "  background-color: var(--sklearn-color-fitted-level-2);\n",
              "}\n",
              "\n",
              "/* Specification for estimator info (e.g. \"i\" and \"?\") */\n",
              "\n",
              "/* Common style for \"i\" and \"?\" */\n",
              "\n",
              ".sk-estimator-doc-link,\n",
              "a:link.sk-estimator-doc-link,\n",
              "a:visited.sk-estimator-doc-link {\n",
              "  float: right;\n",
              "  font-size: smaller;\n",
              "  line-height: 1em;\n",
              "  font-family: monospace;\n",
              "  background-color: var(--sklearn-color-background);\n",
              "  border-radius: 1em;\n",
              "  height: 1em;\n",
              "  width: 1em;\n",
              "  text-decoration: none !important;\n",
              "  margin-left: 0.5em;\n",
              "  text-align: center;\n",
              "  /* unfitted */\n",
              "  border: var(--sklearn-color-unfitted-level-1) 1pt solid;\n",
              "  color: var(--sklearn-color-unfitted-level-1);\n",
              "}\n",
              "\n",
              ".sk-estimator-doc-link.fitted,\n",
              "a:link.sk-estimator-doc-link.fitted,\n",
              "a:visited.sk-estimator-doc-link.fitted {\n",
              "  /* fitted */\n",
              "  border: var(--sklearn-color-fitted-level-1) 1pt solid;\n",
              "  color: var(--sklearn-color-fitted-level-1);\n",
              "}\n",
              "\n",
              "/* On hover */\n",
              "div.sk-estimator:hover .sk-estimator-doc-link:hover,\n",
              ".sk-estimator-doc-link:hover,\n",
              "div.sk-label-container:hover .sk-estimator-doc-link:hover,\n",
              ".sk-estimator-doc-link:hover {\n",
              "  /* unfitted */\n",
              "  background-color: var(--sklearn-color-unfitted-level-3);\n",
              "  color: var(--sklearn-color-background);\n",
              "  text-decoration: none;\n",
              "}\n",
              "\n",
              "div.sk-estimator.fitted:hover .sk-estimator-doc-link.fitted:hover,\n",
              ".sk-estimator-doc-link.fitted:hover,\n",
              "div.sk-label-container:hover .sk-estimator-doc-link.fitted:hover,\n",
              ".sk-estimator-doc-link.fitted:hover {\n",
              "  /* fitted */\n",
              "  background-color: var(--sklearn-color-fitted-level-3);\n",
              "  color: var(--sklearn-color-background);\n",
              "  text-decoration: none;\n",
              "}\n",
              "\n",
              "/* Span, style for the box shown on hovering the info icon */\n",
              ".sk-estimator-doc-link span {\n",
              "  display: none;\n",
              "  z-index: 9999;\n",
              "  position: relative;\n",
              "  font-weight: normal;\n",
              "  right: .2ex;\n",
              "  padding: .5ex;\n",
              "  margin: .5ex;\n",
              "  width: min-content;\n",
              "  min-width: 20ex;\n",
              "  max-width: 50ex;\n",
              "  color: var(--sklearn-color-text);\n",
              "  box-shadow: 2pt 2pt 4pt #999;\n",
              "  /* unfitted */\n",
              "  background: var(--sklearn-color-unfitted-level-0);\n",
              "  border: .5pt solid var(--sklearn-color-unfitted-level-3);\n",
              "}\n",
              "\n",
              ".sk-estimator-doc-link.fitted span {\n",
              "  /* fitted */\n",
              "  background: var(--sklearn-color-fitted-level-0);\n",
              "  border: var(--sklearn-color-fitted-level-3);\n",
              "}\n",
              "\n",
              ".sk-estimator-doc-link:hover span {\n",
              "  display: block;\n",
              "}\n",
              "\n",
              "/* \"?\"-specific style due to the `<a>` HTML tag */\n",
              "\n",
              "#sk-container-id-1 a.estimator_doc_link {\n",
              "  float: right;\n",
              "  font-size: 1rem;\n",
              "  line-height: 1em;\n",
              "  font-family: monospace;\n",
              "  background-color: var(--sklearn-color-background);\n",
              "  border-radius: 1rem;\n",
              "  height: 1rem;\n",
              "  width: 1rem;\n",
              "  text-decoration: none;\n",
              "  /* unfitted */\n",
              "  color: var(--sklearn-color-unfitted-level-1);\n",
              "  border: var(--sklearn-color-unfitted-level-1) 1pt solid;\n",
              "}\n",
              "\n",
              "#sk-container-id-1 a.estimator_doc_link.fitted {\n",
              "  /* fitted */\n",
              "  border: var(--sklearn-color-fitted-level-1) 1pt solid;\n",
              "  color: var(--sklearn-color-fitted-level-1);\n",
              "}\n",
              "\n",
              "/* On hover */\n",
              "#sk-container-id-1 a.estimator_doc_link:hover {\n",
              "  /* unfitted */\n",
              "  background-color: var(--sklearn-color-unfitted-level-3);\n",
              "  color: var(--sklearn-color-background);\n",
              "  text-decoration: none;\n",
              "}\n",
              "\n",
              "#sk-container-id-1 a.estimator_doc_link.fitted:hover {\n",
              "  /* fitted */\n",
              "  background-color: var(--sklearn-color-fitted-level-3);\n",
              "}\n",
              "</style><div id=\"sk-container-id-1\" class=\"sk-top-container\"><div class=\"sk-text-repr-fallback\"><pre>LinearRegression()</pre><b>In a Jupyter environment, please rerun this cell to show the HTML representation or trust the notebook. <br />On GitHub, the HTML representation is unable to render, please try loading this page with nbviewer.org.</b></div><div class=\"sk-container\" hidden><div class=\"sk-item\"><div class=\"sk-estimator fitted sk-toggleable\"><input class=\"sk-toggleable__control sk-hidden--visually\" id=\"sk-estimator-id-1\" type=\"checkbox\" checked><label for=\"sk-estimator-id-1\" class=\"sk-toggleable__label fitted sk-toggleable__label-arrow\"><div><div>LinearRegression</div></div><div><a class=\"sk-estimator-doc-link fitted\" rel=\"noreferrer\" target=\"_blank\" href=\"https://scikit-learn.org/1.6/modules/generated/sklearn.linear_model.LinearRegression.html\">?<span>Documentation for LinearRegression</span></a><span class=\"sk-estimator-doc-link fitted\">i<span>Fitted</span></span></div></label><div class=\"sk-toggleable__content fitted\"><pre>LinearRegression()</pre></div> </div></div></div></div>"
            ]
          },
          "metadata": {},
          "execution_count": 13
        }
      ]
    },
    {
      "cell_type": "markdown",
      "source": [
        "Prediction"
      ],
      "metadata": {
        "id": "tFNGGD4qqfnB"
      }
    },
    {
      "cell_type": "code",
      "source": [
        "y_test_pred=regressor.predict(x_test)\n",
        "y_train_pred = regressor.predict(x_train)"
      ],
      "metadata": {
        "id": "t4oCyINSql-J"
      },
      "execution_count": 14,
      "outputs": []
    },
    {
      "cell_type": "markdown",
      "source": [
        "4. PLotting Linear Regression on both Train and Test sets"
      ],
      "metadata": {
        "id": "aLyu-nUntEom"
      }
    },
    {
      "cell_type": "markdown",
      "source": [
        "Vizualisation training set\n",
        "\n"
      ],
      "metadata": {
        "id": "rvRK4sMdqtl7"
      }
    },
    {
      "cell_type": "code",
      "source": [
        "plt.scatter(y_train, y_train_pred, color=\"red\", alpha=0.7, label=\"Training Data\")\n",
        "plt.plot([min(y_train), max(y_train)], [min(y_train), max(y_train)], color=\"blue\", linestyle=\"-\", label=\"Ideal Prediction Line\")\n",
        "plt.xlabel(\"Actual Sales\")\n",
        "plt.ylabel(\"Predicted Sales\")\n",
        "plt.title(\"Training Set: Actual vs Predicted Sales\")\n",
        "plt.legend()\n",
        "plt.show()"
      ],
      "metadata": {
        "colab": {
          "base_uri": "https://localhost:8080/",
          "height": 472
        },
        "id": "NnjzGNNvqvik",
        "outputId": "3d0dcfb8-e8b7-43e2-c918-523ec5760736"
      },
      "execution_count": 15,
      "outputs": [
        {
          "output_type": "display_data",
          "data": {
            "text/plain": [
              "<Figure size 640x480 with 1 Axes>"
            ],
            "image/png": "[encoded data removed]"
          },
          "metadata": {}
        }
      ]
    },
    {
      "cell_type": "markdown",
      "source": [
        "Visualizing Test set"
      ],
      "metadata": {
        "id": "Xui1L8uPsAVz"
      }
    },
    {
      "cell_type": "code",
      "source": [
        "plt.scatter(y_test, y_test_pred, color=\"green\", alpha=0.7, label=\"Test Data\")\n",
        "plt.plot([min(y_test), max(y_test)], [min(y_test), max(y_test)], color=\"blue\", linestyle=\"-\", label=\"Ideal Prediction Line\")\n",
        "plt.xlabel(\"Actual Sales\")\n",
        "plt.ylabel(\"Predicted Sales\")\n",
        "plt.title(\"Test Set: Actual vs Predicted Sales\")\n",
        "plt.legend()\n",
        "plt.show()\n"
      ],
      "metadata": {
        "colab": {
          "base_uri": "https://localhost:8080/",
          "height": 472
        },
        "id": "AnZ9T2GAsCVl",
        "outputId": "f1194a74-db3e-482f-c32c-b5b9de716077"
      },
      "execution_count": 16,
      "outputs": [
        {
          "output_type": "display_data",
          "data": {
            "text/plain": [
              "<Figure size 640x480 with 1 Axes>"
            ],
            "image/png": "[encoded data removed]"
          },
          "metadata": {}
        }
      ]
    },
    {
      "cell_type": "markdown",
      "source": [
        "5. Prediction on New dataset[$200 on TV, $40 on Radio, and $50 on Newspaper]"
      ],
      "metadata": {
        "id": "25k8l_QRtbSR"
      }
    },
    {
      "cell_type": "code",
      "source": [
        "new_ad_budget = np.array([[200, 40, 50]])\n",
        "new_ad_budget_scaled = sc.transform(new_ad_budget)\n",
        "predicted_sales = regressor.predict(new_ad_budget_scaled)\n",
        "print(f\"Predicted Sales: {predicted_sales[0]:.2f}\")"
      ],
      "metadata": {
        "colab": {
          "base_uri": "https://localhost:8080/"
        },
        "id": "ySp7dVJ3xcuL",
        "outputId": "0f0f51c5-1be5-4406-d4c4-6a402fd0a911"
      },
      "execution_count": 22,
      "outputs": [
        {
          "output_type": "stream",
          "name": "stdout",
          "text": [
            "Predicted Sales: 19.73\n"
          ]
        }
      ]
    },
    {
      "cell_type": "markdown",
      "source": [
        "metrics"
      ],
      "metadata": {
        "id": "mFbSr_lZz6ex"
      }
    },
    {
      "cell_type": "code",
      "source": [
        "from sklearn.metrics import mean_squared_error, mean_absolute_error, r2_score\n",
        "import numpy as np\n",
        "mse_train = mean_squared_error(y_train, y_train_pred)\n",
        "rmse_train = np.sqrt(mse_train)\n",
        "mae_train = mean_absolute_error(y_train, y_train_pred)\n",
        "r2_train = r2_score(y_train, y_train_pred)\n",
        "\n",
        "# Compute metrics for test set\n",
        "mse_test = mean_squared_error(y_test, y_test_pred)\n",
        "rmse_test = np.sqrt(mse_test)\n",
        "mae_test = mean_absolute_error(y_test, y_test_pred)\n",
        "r2_test = r2_score(y_test, y_test_pred)\n",
        "\n",
        "# Print results\n",
        "print(\"Training Performance:\")\n",
        "print(f\"Mean Squared Error: {mse_train:.2f}\")\n",
        "print(f\"Root Mean Squared Error: {rmse_train:.2f}\")\n",
        "print(f\"Mean Absolute Error: {mae_train:.2f}\")\n",
        "print(f\"R² Score: {r2_train:.2f}\")\n",
        "\n",
        "print(\"\\nTest Performance:\")\n",
        "print(f\"Mean Squared Error: {mse_test:.2f}\")\n",
        "print(f\"Root Mean Squared Error: {rmse_test:.2f}\")\n",
        "print(f\"Mean Absolute Error: {mae_test:.2f}\")\n",
        "print(f\"R² Score: {r2_test:.2f}\")"
      ],
      "metadata": {
        "colab": {
          "base_uri": "https://localhost:8080/"
        },
        "id": "88lxlgKdz73J",
        "outputId": "3837f6ac-a894-4c54-b5a2-c50eba91ed11"
      },
      "execution_count": 23,
      "outputs": [
        {
          "output_type": "stream",
          "name": "stdout",
          "text": [
            "Training Performance:\n",
            "Mean Squared Error: 2.79\n",
            "Root Mean Squared Error: 1.67\n",
            "Mean Absolute Error: 1.24\n",
            "R² Score: 0.91\n",
            "\n",
            "Test Performance:\n",
            "Mean Squared Error: 2.41\n",
            "Root Mean Squared Error: 1.55\n",
            "Mean Absolute Error: 1.28\n",
            "R² Score: 0.87\n"
          ]
        }
      ]
    },
    {
      "cell_type": "markdown",
      "source": [
        "7. radio and newspaper advertising expenditures are used as predictors"
      ],
      "metadata": {
        "id": "JNRtWjU7sKYv"
      }
    },
    {
      "cell_type": "code",
      "source": [
        "x_train_reduced = x_train[:, [1, 2]]\n",
        "x_test_reduced = x_test[:, [1, 2]]\n",
        "regressor_reduced = LinearRegression()\n",
        "regressor_reduced.fit(x_train_reduced, y_train)\n",
        "y_pred_reduced = regressor_reduced.predict(x_test_reduced)\n",
        "from sklearn.metrics import mean_squared_error, r2_score\n",
        "mse_reduced = mean_squared_error(y_test, y_pred_reduced)\n",
        "r2_reduced = r2_score(y_test, y_pred_reduced)\n",
        "print(f\"Reduced Model MSE: {mse_reduced:.2f}\")\n",
        "print(f\"Reduced Model R² Score: {r2_reduced:.2f}\")"
      ],
      "metadata": {
        "colab": {
          "base_uri": "https://localhost:8080/"
        },
        "id": "WKWz_YCx61kA",
        "outputId": "1e57e32a-69c0-4c69-9930-d1f6232eb874"
      },
      "execution_count": 24,
      "outputs": [
        {
          "output_type": "stream",
          "name": "stdout",
          "text": [
            "Reduced Model MSE: 19.08\n",
            "Reduced Model R² Score: 0.01\n"
          ]
        }
      ]
    }
  ]
}